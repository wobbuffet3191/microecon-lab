{
 "cells": [
  {
   "cell_type": "code",
   "execution_count": 116,
   "metadata": {},
   "outputs": [
    {
     "data": {
      "application/javascript": [
       "IPython.notebook.execute_cell_range(IPython.notebook.get_selected_index()+1, IPython.notebook.ncells())"
      ],
      "text/plain": [
       "<IPython.core.display.Javascript object>"
      ]
     },
     "metadata": {},
     "output_type": "display_data"
    },
    {
     "data": {
      "application/javascript": [
       "IPython.notebook.execute_cell_range(IPython.notebook.get_selected_index()+1, IPython.notebook.ncells())"
      ],
      "text/plain": [
       "<IPython.core.display.Javascript object>"
      ]
     },
     "metadata": {},
     "output_type": "display_data"
    },
    {
     "data": {
      "application/javascript": [
       "IPython.notebook.execute_cell_range(IPython.notebook.get_selected_index()+1, IPython.notebook.ncells())"
      ],
      "text/plain": [
       "<IPython.core.display.Javascript object>"
      ]
     },
     "metadata": {},
     "output_type": "display_data"
    },
    {
     "data": {
      "application/javascript": [
       "IPython.notebook.execute_cell_range(IPython.notebook.get_selected_index()+1, IPython.notebook.ncells())"
      ],
      "text/plain": [
       "<IPython.core.display.Javascript object>"
      ]
     },
     "metadata": {},
     "output_type": "display_data"
    },
    {
     "data": {
      "application/javascript": [
       "IPython.notebook.execute_cell_range(IPython.notebook.get_selected_index()+1, IPython.notebook.ncells())"
      ],
      "text/plain": [
       "<IPython.core.display.Javascript object>"
      ]
     },
     "metadata": {},
     "output_type": "display_data"
    },
    {
     "data": {
      "application/javascript": [
       "IPython.notebook.execute_cell_range(IPython.notebook.get_selected_index()+1, IPython.notebook.ncells())"
      ],
      "text/plain": [
       "<IPython.core.display.Javascript object>"
      ]
     },
     "metadata": {},
     "output_type": "display_data"
    },
    {
     "data": {
      "application/javascript": [
       "IPython.notebook.execute_cell_range(IPython.notebook.get_selected_index()+1, IPython.notebook.ncells())"
      ],
      "text/plain": [
       "<IPython.core.display.Javascript object>"
      ]
     },
     "metadata": {},
     "output_type": "display_data"
    },
    {
     "data": {
      "application/javascript": [
       "IPython.notebook.execute_cell_range(IPython.notebook.get_selected_index()+1, IPython.notebook.ncells())"
      ],
      "text/plain": [
       "<IPython.core.display.Javascript object>"
      ]
     },
     "metadata": {},
     "output_type": "display_data"
    },
    {
     "data": {
      "application/javascript": [
       "IPython.notebook.execute_cell_range(IPython.notebook.get_selected_index()+1, IPython.notebook.ncells())"
      ],
      "text/plain": [
       "<IPython.core.display.Javascript object>"
      ]
     },
     "metadata": {},
     "output_type": "display_data"
    },
    {
     "data": {
      "application/javascript": [
       "IPython.notebook.execute_cell_range(IPython.notebook.get_selected_index()+1, IPython.notebook.ncells())"
      ],
      "text/plain": [
       "<IPython.core.display.Javascript object>"
      ]
     },
     "metadata": {},
     "output_type": "display_data"
    },
    {
     "data": {
      "application/javascript": [
       "IPython.notebook.execute_cell_range(IPython.notebook.get_selected_index()+1, IPython.notebook.ncells())"
      ],
      "text/plain": [
       "<IPython.core.display.Javascript object>"
      ]
     },
     "metadata": {},
     "output_type": "display_data"
    },
    {
     "data": {
      "application/javascript": [
       "IPython.notebook.execute_cell_range(IPython.notebook.get_selected_index()+1, IPython.notebook.ncells())"
      ],
      "text/plain": [
       "<IPython.core.display.Javascript object>"
      ]
     },
     "metadata": {},
     "output_type": "display_data"
    },
    {
     "data": {
      "application/javascript": [
       "IPython.notebook.execute_cell_range(IPython.notebook.get_selected_index()+1, IPython.notebook.ncells())"
      ],
      "text/plain": [
       "<IPython.core.display.Javascript object>"
      ]
     },
     "metadata": {},
     "output_type": "display_data"
    },
    {
     "data": {
      "application/javascript": [
       "IPython.notebook.execute_cell_range(IPython.notebook.get_selected_index()+1, IPython.notebook.ncells())"
      ],
      "text/plain": [
       "<IPython.core.display.Javascript object>"
      ]
     },
     "metadata": {},
     "output_type": "display_data"
    },
    {
     "data": {
      "application/javascript": [
       "IPython.notebook.execute_cell_range(IPython.notebook.get_selected_index()+1, IPython.notebook.ncells())"
      ],
      "text/plain": [
       "<IPython.core.display.Javascript object>"
      ]
     },
     "metadata": {},
     "output_type": "display_data"
    },
    {
     "data": {
      "application/javascript": [
       "IPython.notebook.execute_cell_range(IPython.notebook.get_selected_index()+1, IPython.notebook.ncells())"
      ],
      "text/plain": [
       "<IPython.core.display.Javascript object>"
      ]
     },
     "metadata": {},
     "output_type": "display_data"
    },
    {
     "data": {
      "application/javascript": [
       "IPython.notebook.execute_cell_range(IPython.notebook.get_selected_index()+1, IPython.notebook.ncells())"
      ],
      "text/plain": [
       "<IPython.core.display.Javascript object>"
      ]
     },
     "metadata": {},
     "output_type": "display_data"
    },
    {
     "data": {
      "application/javascript": [
       "IPython.notebook.execute_cell_range(IPython.notebook.get_selected_index()+1, IPython.notebook.ncells())"
      ],
      "text/plain": [
       "<IPython.core.display.Javascript object>"
      ]
     },
     "metadata": {},
     "output_type": "display_data"
    },
    {
     "data": {
      "application/javascript": [
       "IPython.notebook.execute_cell_range(IPython.notebook.get_selected_index()+1, IPython.notebook.ncells())"
      ],
      "text/plain": [
       "<IPython.core.display.Javascript object>"
      ]
     },
     "metadata": {},
     "output_type": "display_data"
    },
    {
     "data": {
      "application/javascript": [
       "IPython.notebook.execute_cell_range(IPython.notebook.get_selected_index()+1, IPython.notebook.ncells())"
      ],
      "text/plain": [
       "<IPython.core.display.Javascript object>"
      ]
     },
     "metadata": {},
     "output_type": "display_data"
    },
    {
     "data": {
      "application/javascript": [
       "IPython.notebook.execute_cell_range(IPython.notebook.get_selected_index()+1, IPython.notebook.ncells())"
      ],
      "text/plain": [
       "<IPython.core.display.Javascript object>"
      ]
     },
     "metadata": {},
     "output_type": "display_data"
    },
    {
     "data": {
      "application/javascript": [
       "IPython.notebook.execute_cell_range(IPython.notebook.get_selected_index()+1, IPython.notebook.ncells())"
      ],
      "text/plain": [
       "<IPython.core.display.Javascript object>"
      ]
     },
     "metadata": {},
     "output_type": "display_data"
    },
    {
     "data": {
      "application/javascript": [
       "IPython.notebook.execute_cell_range(IPython.notebook.get_selected_index()+1, IPython.notebook.ncells())"
      ],
      "text/plain": [
       "<IPython.core.display.Javascript object>"
      ]
     },
     "metadata": {},
     "output_type": "display_data"
    },
    {
     "data": {
      "application/javascript": [
       "IPython.notebook.execute_cell_range(IPython.notebook.get_selected_index()+1, IPython.notebook.ncells())"
      ],
      "text/plain": [
       "<IPython.core.display.Javascript object>"
      ]
     },
     "metadata": {},
     "output_type": "display_data"
    },
    {
     "data": {
      "application/vnd.jupyter.widget-view+json": {
       "model_id": "374fec72265f45bf81cb6c309c324296",
       "version_major": 2,
       "version_minor": 0
      },
      "text/plain": [
       "Text(value='6', description='a = ')"
      ]
     },
     "metadata": {},
     "output_type": "display_data"
    },
    {
     "data": {
      "application/vnd.jupyter.widget-view+json": {
       "model_id": "20578221eb164944904e29fe7ad3d09b",
       "version_major": 2,
       "version_minor": 0
      },
      "text/plain": [
       "Text(value='0.5', description='b = ')"
      ]
     },
     "metadata": {},
     "output_type": "display_data"
    },
    {
     "data": {
      "application/vnd.jupyter.widget-view+json": {
       "model_id": "64590153e6e34e128d90bd14af7c303d",
       "version_major": 2,
       "version_minor": 0
      },
      "text/plain": [
       "Text(value='0', description='c = ')"
      ]
     },
     "metadata": {},
     "output_type": "display_data"
    },
    {
     "data": {
      "application/vnd.jupyter.widget-view+json": {
       "model_id": "8a753dd5f195492181658e253930a824",
       "version_major": 2,
       "version_minor": 0
      },
      "text/plain": [
       "Text(value='1', description='d = ')"
      ]
     },
     "metadata": {},
     "output_type": "display_data"
    },
    {
     "data": {
      "application/vnd.jupyter.widget-view+json": {
       "model_id": "706239e6f9964f93859105307a6699dc",
       "version_major": 2,
       "version_minor": 0
      },
      "text/plain": [
       "Button(description='Computar y graficar', style=ButtonStyle())"
      ]
     },
     "metadata": {},
     "output_type": "display_data"
    }
   ],
   "source": [
    "from ipywidgets import widgets\n",
    "from IPython.display import Javascript, display\n",
    "import matplotlib.pyplot as plt\n",
    "from bokeh.plotting import figure, ColumnDataSource, show\n",
    "from bokeh.io import reset_output, output_notebook\n",
    "\n",
    "reset_output()\n",
    "\n",
    "texta = widgets.Text(description = 'a = ', value = '6')\n",
    "textb = widgets.Text(description = 'b = ', value = '0.5')\n",
    "textc = widgets.Text(description = 'c = ', value = '0')\n",
    "textd = widgets.Text(description = 'd = ', value = '1')\n",
    "display(texta)\n",
    "display(textb)\n",
    "display(textc)\n",
    "display(textd)\n",
    "\n",
    "def run_all(ev):\n",
    "    display(Javascript('IPython.notebook.execute_cell_range(IPython.notebook.get_selected_index()+1, IPython.notebook.ncells())'))\n",
    "\n",
    "button = widgets.Button(description=\"Computar y graficar\")\n",
    "button.on_click(run_all)\n",
    "display(button)"
   ]
  },
  {
   "cell_type": "code",
   "execution_count": 117,
   "metadata": {},
   "outputs": [],
   "source": [
    "a = float(texta.value)\n",
    "b = float(textb.value)\n",
    "c = float(textc.value)\n",
    "d = float(textd.value)"
   ]
  },
  {
   "cell_type": "code",
   "execution_count": 118,
   "metadata": {},
   "outputs": [],
   "source": [
    "# Equilibrio de competencia perfecta\n",
    "\n",
    "qc = (a - c)/(b + d)\n",
    "pc = a - b*qc\n",
    "cs = (b*qc**2)/2\n",
    "ps = (d*qc**2)/2"
   ]
  },
  {
   "cell_type": "code",
   "execution_count": 119,
   "metadata": {},
   "outputs": [
    {
     "data": {
      "text/html": [
       "\n",
       "    <div class=\"bk-root\">\n",
       "        <a href=\"https://bokeh.pydata.org\" target=\"_blank\" class=\"bk-logo bk-logo-small bk-logo-notebook\"></a>\n",
       "        <span id=\"bfec0afd-28ce-4ed3-972a-25f9b8f07f97\">Loading BokehJS ...</span>\n",
       "    </div>"
      ]
     },
     "metadata": {},
     "output_type": "display_data"
    },
    {
     "data": {
      "application/javascript": [
       "\n",
       "(function(root) {\n",
       "  function now() {\n",
       "    return new Date();\n",
       "  }\n",
       "\n",
       "  var force = true;\n",
       "\n",
       "  if (typeof (root._bokeh_onload_callbacks) === \"undefined\" || force === true) {\n",
       "    root._bokeh_onload_callbacks = [];\n",
       "    root._bokeh_is_loading = undefined;\n",
       "  }\n",
       "\n",
       "\n",
       "  \n",
       "  if (typeof (root._bokeh_timeout) === \"undefined\" || force === true) {\n",
       "    root._bokeh_timeout = Date.now() + 5000;\n",
       "    root._bokeh_failed_load = false;\n",
       "  }\n",
       "\n",
       "  var NB_LOAD_WARNING = {'data': {'text/html':\n",
       "     \"<div style='background-color: #fdd'>\\n\"+\n",
       "     \"<p>\\n\"+\n",
       "     \"BokehJS does not appear to have successfully loaded. If loading BokehJS from CDN, this \\n\"+\n",
       "     \"may be due to a slow or bad network connection. Possible fixes:\\n\"+\n",
       "     \"</p>\\n\"+\n",
       "     \"<ul>\\n\"+\n",
       "     \"<li>re-rerun `output_notebook()` to attempt to load from CDN again, or</li>\\n\"+\n",
       "     \"<li>use INLINE resources instead, as so:</li>\\n\"+\n",
       "     \"</ul>\\n\"+\n",
       "     \"<code>\\n\"+\n",
       "     \"from bokeh.resources import INLINE\\n\"+\n",
       "     \"output_notebook(resources=INLINE)\\n\"+\n",
       "     \"</code>\\n\"+\n",
       "     \"</div>\"}};\n",
       "\n",
       "  function display_loaded() {\n",
       "    if (root.Bokeh !== undefined) {\n",
       "      var el = document.getElementById(\"bfec0afd-28ce-4ed3-972a-25f9b8f07f97\");\n",
       "      if (el != null) {\n",
       "        el.textContent = \"BokehJS \" + Bokeh.version + \" successfully loaded.\";\n",
       "      }\n",
       "    } else if (Date.now() < root._bokeh_timeout) {\n",
       "      setTimeout(display_loaded, 100)\n",
       "    }\n",
       "  }\n",
       "\n",
       "\n",
       "  function run_callbacks() {\n",
       "    try {\n",
       "      root._bokeh_onload_callbacks.forEach(function(callback) { callback() });\n",
       "    }\n",
       "    finally {\n",
       "      delete root._bokeh_onload_callbacks\n",
       "    }\n",
       "    console.info(\"Bokeh: all callbacks have finished\");\n",
       "  }\n",
       "\n",
       "  function load_libs(js_urls, callback) {\n",
       "    root._bokeh_onload_callbacks.push(callback);\n",
       "    if (root._bokeh_is_loading > 0) {\n",
       "      console.log(\"Bokeh: BokehJS is being loaded, scheduling callback at\", now());\n",
       "      return null;\n",
       "    }\n",
       "    if (js_urls == null || js_urls.length === 0) {\n",
       "      run_callbacks();\n",
       "      return null;\n",
       "    }\n",
       "    console.log(\"Bokeh: BokehJS not loaded, scheduling load and callback at\", now());\n",
       "    root._bokeh_is_loading = js_urls.length;\n",
       "    for (var i = 0; i < js_urls.length; i++) {\n",
       "      var url = js_urls[i];\n",
       "      var s = document.createElement('script');\n",
       "      s.src = url;\n",
       "      s.async = false;\n",
       "      s.onreadystatechange = s.onload = function() {\n",
       "        root._bokeh_is_loading--;\n",
       "        if (root._bokeh_is_loading === 0) {\n",
       "          console.log(\"Bokeh: all BokehJS libraries loaded\");\n",
       "          run_callbacks()\n",
       "        }\n",
       "      };\n",
       "      s.onerror = function() {\n",
       "        console.warn(\"failed to load library \" + url);\n",
       "      };\n",
       "      console.log(\"Bokeh: injecting script tag for BokehJS library: \", url);\n",
       "      document.getElementsByTagName(\"head\")[0].appendChild(s);\n",
       "    }\n",
       "  };var element = document.getElementById(\"bfec0afd-28ce-4ed3-972a-25f9b8f07f97\");\n",
       "  if (element == null) {\n",
       "    console.log(\"Bokeh: ERROR: autoload.js configured with elementid 'bfec0afd-28ce-4ed3-972a-25f9b8f07f97' but no matching script tag was found. \")\n",
       "    return false;\n",
       "  }\n",
       "\n",
       "  var js_urls = [\"https://cdn.pydata.org/bokeh/release/bokeh-0.12.7.min.js\", \"https://cdn.pydata.org/bokeh/release/bokeh-widgets-0.12.7.min.js\", \"https://cdn.pydata.org/bokeh/release/bokeh-tables-0.12.7.min.js\", \"https://cdn.pydata.org/bokeh/release/bokeh-gl-0.12.7.min.js\"];\n",
       "\n",
       "  var inline_js = [\n",
       "    function(Bokeh) {\n",
       "      Bokeh.set_log_level(\"info\");\n",
       "    },\n",
       "    \n",
       "    function(Bokeh) {\n",
       "      \n",
       "    },\n",
       "    \n",
       "    function(Bokeh) {\n",
       "      \n",
       "      document.getElementById(\"bfec0afd-28ce-4ed3-972a-25f9b8f07f97\").textContent = \"BokehJS is loading...\";\n",
       "    },\n",
       "    function(Bokeh) {\n",
       "      console.log(\"Bokeh: injecting CSS: https://cdn.pydata.org/bokeh/release/bokeh-0.12.7.min.css\");\n",
       "      Bokeh.embed.inject_css(\"https://cdn.pydata.org/bokeh/release/bokeh-0.12.7.min.css\");\n",
       "      console.log(\"Bokeh: injecting CSS: https://cdn.pydata.org/bokeh/release/bokeh-widgets-0.12.7.min.css\");\n",
       "      Bokeh.embed.inject_css(\"https://cdn.pydata.org/bokeh/release/bokeh-widgets-0.12.7.min.css\");\n",
       "      console.log(\"Bokeh: injecting CSS: https://cdn.pydata.org/bokeh/release/bokeh-tables-0.12.7.min.css\");\n",
       "      Bokeh.embed.inject_css(\"https://cdn.pydata.org/bokeh/release/bokeh-tables-0.12.7.min.css\");\n",
       "    }\n",
       "  ];\n",
       "\n",
       "  function run_inline_js() {\n",
       "    \n",
       "    if ((root.Bokeh !== undefined) || (force === true)) {\n",
       "      for (var i = 0; i < inline_js.length; i++) {\n",
       "        inline_js[i].call(root, root.Bokeh);\n",
       "      }if (force === true) {\n",
       "        display_loaded();\n",
       "      }} else if (Date.now() < root._bokeh_timeout) {\n",
       "      setTimeout(run_inline_js, 100);\n",
       "    } else if (!root._bokeh_failed_load) {\n",
       "      console.log(\"Bokeh: BokehJS failed to load within specified timeout.\");\n",
       "      root._bokeh_failed_load = true;\n",
       "    } else if (force !== true) {\n",
       "      var cell = $(document.getElementById(\"bfec0afd-28ce-4ed3-972a-25f9b8f07f97\")).parents('.cell').data().cell;\n",
       "      cell.output_area.append_execute_result(NB_LOAD_WARNING)\n",
       "    }\n",
       "\n",
       "  }\n",
       "\n",
       "  if (root._bokeh_is_loading === 0) {\n",
       "    console.log(\"Bokeh: BokehJS loaded, going straight to plotting\");\n",
       "    run_inline_js();\n",
       "  } else {\n",
       "    load_libs(js_urls, function() {\n",
       "      console.log(\"Bokeh: BokehJS plotting callback run at\", now());\n",
       "      run_inline_js();\n",
       "    });\n",
       "  }\n",
       "}(window));"
      ]
     },
     "metadata": {},
     "output_type": "display_data"
    },
    {
     "data": {
      "text/html": [
       "\n",
       "\n",
       "    <div class=\"bk-root\">\n",
       "        <div class=\"bk-plotdiv\" id=\"a561bdf4-b8e2-4296-bd84-12780b689c5e\"></div>\n",
       "    </div>\n",
       "<script type=\"text/javascript\">\n",
       "  \n",
       "  (function(root) {\n",
       "    function now() {\n",
       "      return new Date();\n",
       "    }\n",
       "  \n",
       "    var force = false;\n",
       "  \n",
       "    if (typeof (root._bokeh_onload_callbacks) === \"undefined\" || force === true) {\n",
       "      root._bokeh_onload_callbacks = [];\n",
       "      root._bokeh_is_loading = undefined;\n",
       "    }\n",
       "  \n",
       "  \n",
       "    \n",
       "    if (typeof (root._bokeh_timeout) === \"undefined\" || force === true) {\n",
       "      root._bokeh_timeout = Date.now() + 0;\n",
       "      root._bokeh_failed_load = false;\n",
       "    }\n",
       "  \n",
       "    var NB_LOAD_WARNING = {'data': {'text/html':\n",
       "       \"<div style='background-color: #fdd'>\\n\"+\n",
       "       \"<p>\\n\"+\n",
       "       \"BokehJS does not appear to have successfully loaded. If loading BokehJS from CDN, this \\n\"+\n",
       "       \"may be due to a slow or bad network connection. Possible fixes:\\n\"+\n",
       "       \"</p>\\n\"+\n",
       "       \"<ul>\\n\"+\n",
       "       \"<li>re-rerun `output_notebook()` to attempt to load from CDN again, or</li>\\n\"+\n",
       "       \"<li>use INLINE resources instead, as so:</li>\\n\"+\n",
       "       \"</ul>\\n\"+\n",
       "       \"<code>\\n\"+\n",
       "       \"from bokeh.resources import INLINE\\n\"+\n",
       "       \"output_notebook(resources=INLINE)\\n\"+\n",
       "       \"</code>\\n\"+\n",
       "       \"</div>\"}};\n",
       "  \n",
       "    function display_loaded() {\n",
       "      if (root.Bokeh !== undefined) {\n",
       "        var el = document.getElementById(\"a561bdf4-b8e2-4296-bd84-12780b689c5e\");\n",
       "        if (el != null) {\n",
       "          el.textContent = \"BokehJS \" + Bokeh.version + \" successfully loaded.\";\n",
       "        }\n",
       "      } else if (Date.now() < root._bokeh_timeout) {\n",
       "        setTimeout(display_loaded, 100)\n",
       "      }\n",
       "    }\n",
       "  \n",
       "  \n",
       "    function run_callbacks() {\n",
       "      try {\n",
       "        root._bokeh_onload_callbacks.forEach(function(callback) { callback() });\n",
       "      }\n",
       "      finally {\n",
       "        delete root._bokeh_onload_callbacks\n",
       "      }\n",
       "      console.info(\"Bokeh: all callbacks have finished\");\n",
       "    }\n",
       "  \n",
       "    function load_libs(js_urls, callback) {\n",
       "      root._bokeh_onload_callbacks.push(callback);\n",
       "      if (root._bokeh_is_loading > 0) {\n",
       "        console.log(\"Bokeh: BokehJS is being loaded, scheduling callback at\", now());\n",
       "        return null;\n",
       "      }\n",
       "      if (js_urls == null || js_urls.length === 0) {\n",
       "        run_callbacks();\n",
       "        return null;\n",
       "      }\n",
       "      console.log(\"Bokeh: BokehJS not loaded, scheduling load and callback at\", now());\n",
       "      root._bokeh_is_loading = js_urls.length;\n",
       "      for (var i = 0; i < js_urls.length; i++) {\n",
       "        var url = js_urls[i];\n",
       "        var s = document.createElement('script');\n",
       "        s.src = url;\n",
       "        s.async = false;\n",
       "        s.onreadystatechange = s.onload = function() {\n",
       "          root._bokeh_is_loading--;\n",
       "          if (root._bokeh_is_loading === 0) {\n",
       "            console.log(\"Bokeh: all BokehJS libraries loaded\");\n",
       "            run_callbacks()\n",
       "          }\n",
       "        };\n",
       "        s.onerror = function() {\n",
       "          console.warn(\"failed to load library \" + url);\n",
       "        };\n",
       "        console.log(\"Bokeh: injecting script tag for BokehJS library: \", url);\n",
       "        document.getElementsByTagName(\"head\")[0].appendChild(s);\n",
       "      }\n",
       "    };var element = document.getElementById(\"a561bdf4-b8e2-4296-bd84-12780b689c5e\");\n",
       "    if (element == null) {\n",
       "      console.log(\"Bokeh: ERROR: autoload.js configured with elementid 'a561bdf4-b8e2-4296-bd84-12780b689c5e' but no matching script tag was found. \")\n",
       "      return false;\n",
       "    }\n",
       "  \n",
       "    var js_urls = [];\n",
       "  \n",
       "    var inline_js = [\n",
       "      function(Bokeh) {\n",
       "        (function() {\n",
       "          var fn = function() {\n",
       "            var docs_json = {\"ad815a4a-eff1-497d-a992-05cc6bdeeaca\":{\"roots\":{\"references\":[{\"attributes\":{\"line_alpha\":{\"value\":0.6},\"line_color\":{\"value\":\"orange\"},\"line_width\":{\"value\":3},\"x\":{\"field\":\"q\"},\"y\":{\"field\":\"s\"}},\"id\":\"5712e7c2-57bc-48a0-8ade-b4de55b5420f\",\"type\":\"Line\"},{\"attributes\":{\"line_alpha\":{\"value\":0.1},\"line_color\":{\"value\":\"#1f77b4\"},\"line_width\":{\"value\":3},\"x\":{\"field\":\"q\"},\"y\":{\"field\":\"s\"}},\"id\":\"3f8a6d7e-9caf-4fb4-8897-4e550c2b7c7e\",\"type\":\"Line\"},{\"attributes\":{\"data_source\":{\"id\":\"b9232e94-63ff-4b45-9ac2-e2ea4d00da8d\",\"type\":\"ColumnDataSource\"},\"glyph\":{\"id\":\"7dd17a38-3199-412d-a132-7f6201706156\",\"type\":\"Line\"},\"hover_glyph\":null,\"muted_glyph\":null,\"nonselection_glyph\":{\"id\":\"5b8779c5-05bf-4fc5-b90f-d9a0d81260ff\",\"type\":\"Line\"},\"selection_glyph\":null,\"view\":{\"id\":\"2acfcea4-1b76-4b49-89ee-7f7185668034\",\"type\":\"CDSView\"}},\"id\":\"466f88ed-0d9b-4318-b196-a1751f877cfb\",\"type\":\"GlyphRenderer\"},{\"attributes\":{\"line_alpha\":{\"value\":0.1},\"line_color\":{\"value\":\"#1f77b4\"},\"line_width\":{\"value\":3},\"x\":{\"field\":\"q\"},\"y\":{\"field\":\"e\"}},\"id\":\"5b8779c5-05bf-4fc5-b90f-d9a0d81260ff\",\"type\":\"Line\"},{\"attributes\":{\"line_alpha\":{\"value\":0.6},\"line_color\":{\"value\":\"#1f77b4\"},\"line_width\":{\"value\":3},\"x\":{\"field\":\"q\"},\"y\":{\"field\":\"e\"}},\"id\":\"7dd17a38-3199-412d-a132-7f6201706156\",\"type\":\"Line\"},{\"attributes\":{\"data_source\":{\"id\":\"b9232e94-63ff-4b45-9ac2-e2ea4d00da8d\",\"type\":\"ColumnDataSource\"},\"glyph\":{\"id\":\"5712e7c2-57bc-48a0-8ade-b4de55b5420f\",\"type\":\"Line\"},\"hover_glyph\":null,\"muted_glyph\":null,\"nonselection_glyph\":{\"id\":\"3f8a6d7e-9caf-4fb4-8897-4e550c2b7c7e\",\"type\":\"Line\"},\"selection_glyph\":null,\"view\":{\"id\":\"11a04751-18b7-4916-916e-f0fc1c032714\",\"type\":\"CDSView\"}},\"id\":\"7f909716-e8b9-4c51-b3cb-22277ecc88b4\",\"type\":\"GlyphRenderer\"},{\"attributes\":{\"source\":{\"id\":\"b9232e94-63ff-4b45-9ac2-e2ea4d00da8d\",\"type\":\"ColumnDataSource\"}},\"id\":\"11a04751-18b7-4916-916e-f0fc1c032714\",\"type\":\"CDSView\"},{\"attributes\":{\"bottom_units\":\"screen\",\"fill_alpha\":{\"value\":0.5},\"fill_color\":{\"value\":\"lightgrey\"},\"left_units\":\"screen\",\"level\":\"overlay\",\"line_alpha\":{\"value\":1.0},\"line_color\":{\"value\":\"black\"},\"line_dash\":[4,4],\"line_width\":{\"value\":2},\"plot\":null,\"render_mode\":\"css\",\"right_units\":\"screen\",\"top_units\":\"screen\"},\"id\":\"026980f0-06ae-45b5-8f8f-92a75cace624\",\"type\":\"BoxAnnotation\"},{\"attributes\":{\"callback\":null,\"end\":8.0},\"id\":\"9c6f9df7-4f5b-44f0-81e6-214b82e8e587\",\"type\":\"Range1d\"},{\"attributes\":{\"active_drag\":\"auto\",\"active_inspect\":\"auto\",\"active_scroll\":\"auto\",\"active_tap\":\"auto\",\"tools\":[{\"id\":\"c96dc543-3c3c-4d21-a7fb-73ea4d6703e3\",\"type\":\"PanTool\"},{\"id\":\"806a5bc4-05cd-4e98-bdf2-3529062a8d94\",\"type\":\"WheelZoomTool\"},{\"id\":\"77635e73-7e7d-4569-8b3a-0a996ac36af9\",\"type\":\"BoxZoomTool\"},{\"id\":\"dac85588-586d-4ceb-a59d-6bac927d3e26\",\"type\":\"SaveTool\"},{\"id\":\"6a46e024-ecc8-4782-ac60-ab02f5ff4842\",\"type\":\"ResetTool\"},{\"id\":\"7a0bc36c-254f-4544-95f8-c25a9a905f73\",\"type\":\"HelpTool\"}]},\"id\":\"4a9b627f-3df0-4bf9-b5cd-7f97834d6f4e\",\"type\":\"Toolbar\"},{\"attributes\":{},\"id\":\"c96dc543-3c3c-4d21-a7fb-73ea4d6703e3\",\"type\":\"PanTool\"},{\"attributes\":{\"overlay\":{\"id\":\"026980f0-06ae-45b5-8f8f-92a75cace624\",\"type\":\"BoxAnnotation\"}},\"id\":\"77635e73-7e7d-4569-8b3a-0a996ac36af9\",\"type\":\"BoxZoomTool\"},{\"attributes\":{},\"id\":\"806a5bc4-05cd-4e98-bdf2-3529062a8d94\",\"type\":\"WheelZoomTool\"},{\"attributes\":{\"source\":{\"id\":\"b9232e94-63ff-4b45-9ac2-e2ea4d00da8d\",\"type\":\"ColumnDataSource\"}},\"id\":\"2acfcea4-1b76-4b49-89ee-7f7185668034\",\"type\":\"CDSView\"},{\"attributes\":{},\"id\":\"50d1352b-9483-4826-adcc-0067143e3ad1\",\"type\":\"LinearScale\"},{\"attributes\":{},\"id\":\"dac85588-586d-4ceb-a59d-6bac927d3e26\",\"type\":\"SaveTool\"},{\"attributes\":{},\"id\":\"6a46e024-ecc8-4782-ac60-ab02f5ff4842\",\"type\":\"ResetTool\"},{\"attributes\":{},\"id\":\"a8a317a9-585a-4e92-b481-7eba7fe7d6f7\",\"type\":\"BasicTicker\"},{\"attributes\":{},\"id\":\"7a0bc36c-254f-4544-95f8-c25a9a905f73\",\"type\":\"HelpTool\"},{\"attributes\":{\"plot\":{\"id\":\"92e8ef44-e206-4f96-ae08-ebdffd0e23d3\",\"subtype\":\"Figure\",\"type\":\"Plot\"},\"ticker\":{\"id\":\"eeb885c3-a18d-4602-b50d-d47ce822172e\",\"type\":\"BasicTicker\"}},\"id\":\"baa0d50f-5134-4c48-b3b2-04ef3f6157a3\",\"type\":\"Grid\"},{\"attributes\":{\"formatter\":{\"id\":\"be394807-ac6a-4410-9380-f280ad13de3f\",\"type\":\"BasicTickFormatter\"},\"plot\":{\"id\":\"92e8ef44-e206-4f96-ae08-ebdffd0e23d3\",\"subtype\":\"Figure\",\"type\":\"Plot\"},\"ticker\":{\"id\":\"eeb885c3-a18d-4602-b50d-d47ce822172e\",\"type\":\"BasicTicker\"}},\"id\":\"9b3534e6-e1ce-4379-be51-047acf599d39\",\"type\":\"LinearAxis\"},{\"attributes\":{\"plot\":null,\"text\":\"\"},\"id\":\"14cebcbb-492b-4822-a4ed-a52ed1da12b8\",\"type\":\"Title\"},{\"attributes\":{},\"id\":\"eeb885c3-a18d-4602-b50d-d47ce822172e\",\"type\":\"BasicTicker\"},{\"attributes\":{\"formatter\":{\"id\":\"cf69493c-2ffc-49a5-bcf6-3d80693cb878\",\"type\":\"BasicTickFormatter\"},\"plot\":{\"id\":\"92e8ef44-e206-4f96-ae08-ebdffd0e23d3\",\"subtype\":\"Figure\",\"type\":\"Plot\"},\"ticker\":{\"id\":\"a8a317a9-585a-4e92-b481-7eba7fe7d6f7\",\"type\":\"BasicTicker\"}},\"id\":\"41178dcd-1fd0-425a-bb10-842b090ab4fb\",\"type\":\"LinearAxis\"},{\"attributes\":{},\"id\":\"be394807-ac6a-4410-9380-f280ad13de3f\",\"type\":\"BasicTickFormatter\"},{\"attributes\":{\"callback\":null,\"column_names\":[\"q\",\"e\",\"s\"],\"data\":{\"e\":[6.0,2.0],\"q\":[0,8.0],\"s\":[0.0,8.0]}},\"id\":\"b9232e94-63ff-4b45-9ac2-e2ea4d00da8d\",\"type\":\"ColumnDataSource\"},{\"attributes\":{\"callback\":null,\"end\":6.6},\"id\":\"1c7da010-1a13-4c15-a3f3-5bc4da776744\",\"type\":\"Range1d\"},{\"attributes\":{},\"id\":\"cf69493c-2ffc-49a5-bcf6-3d80693cb878\",\"type\":\"BasicTickFormatter\"},{\"attributes\":{\"below\":[{\"id\":\"9b3534e6-e1ce-4379-be51-047acf599d39\",\"type\":\"LinearAxis\"}],\"left\":[{\"id\":\"41178dcd-1fd0-425a-bb10-842b090ab4fb\",\"type\":\"LinearAxis\"}],\"plot_height\":400,\"plot_width\":400,\"renderers\":[{\"id\":\"9b3534e6-e1ce-4379-be51-047acf599d39\",\"type\":\"LinearAxis\"},{\"id\":\"baa0d50f-5134-4c48-b3b2-04ef3f6157a3\",\"type\":\"Grid\"},{\"id\":\"41178dcd-1fd0-425a-bb10-842b090ab4fb\",\"type\":\"LinearAxis\"},{\"id\":\"3e624cfa-9797-4175-82ea-bcf4ab4fcd25\",\"type\":\"Grid\"},{\"id\":\"026980f0-06ae-45b5-8f8f-92a75cace624\",\"type\":\"BoxAnnotation\"},{\"id\":\"466f88ed-0d9b-4318-b196-a1751f877cfb\",\"type\":\"GlyphRenderer\"},{\"id\":\"7f909716-e8b9-4c51-b3cb-22277ecc88b4\",\"type\":\"GlyphRenderer\"}],\"title\":{\"id\":\"14cebcbb-492b-4822-a4ed-a52ed1da12b8\",\"type\":\"Title\"},\"toolbar\":{\"id\":\"4a9b627f-3df0-4bf9-b5cd-7f97834d6f4e\",\"type\":\"Toolbar\"},\"x_range\":{\"id\":\"9c6f9df7-4f5b-44f0-81e6-214b82e8e587\",\"type\":\"Range1d\"},\"x_scale\":{\"id\":\"50d1352b-9483-4826-adcc-0067143e3ad1\",\"type\":\"LinearScale\"},\"y_range\":{\"id\":\"1c7da010-1a13-4c15-a3f3-5bc4da776744\",\"type\":\"Range1d\"},\"y_scale\":{\"id\":\"1d8e084a-5085-4eb5-9bf5-d990adb424c6\",\"type\":\"LinearScale\"}},\"id\":\"92e8ef44-e206-4f96-ae08-ebdffd0e23d3\",\"subtype\":\"Figure\",\"type\":\"Plot\"},{\"attributes\":{},\"id\":\"1d8e084a-5085-4eb5-9bf5-d990adb424c6\",\"type\":\"LinearScale\"},{\"attributes\":{\"dimension\":1,\"plot\":{\"id\":\"92e8ef44-e206-4f96-ae08-ebdffd0e23d3\",\"subtype\":\"Figure\",\"type\":\"Plot\"},\"ticker\":{\"id\":\"a8a317a9-585a-4e92-b481-7eba7fe7d6f7\",\"type\":\"BasicTicker\"}},\"id\":\"3e624cfa-9797-4175-82ea-bcf4ab4fcd25\",\"type\":\"Grid\"}],\"root_ids\":[\"92e8ef44-e206-4f96-ae08-ebdffd0e23d3\"]},\"title\":\"Bokeh Application\",\"version\":\"0.12.7\"}};\n",
       "            var render_items = [{\"docid\":\"ad815a4a-eff1-497d-a992-05cc6bdeeaca\",\"elementid\":\"a561bdf4-b8e2-4296-bd84-12780b689c5e\",\"modelid\":\"92e8ef44-e206-4f96-ae08-ebdffd0e23d3\"}];\n",
       "            \n",
       "            Bokeh.embed.embed_items(docs_json, render_items);\n",
       "          };\n",
       "          if (document.readyState != \"loading\") fn();\n",
       "          else document.addEventListener(\"DOMContentLoaded\", fn);\n",
       "        })();\n",
       "      },\n",
       "      function(Bokeh) {\n",
       "      }\n",
       "    ];\n",
       "  \n",
       "    function run_inline_js() {\n",
       "      \n",
       "      if ((root.Bokeh !== undefined) || (force === true)) {\n",
       "        for (var i = 0; i < inline_js.length; i++) {\n",
       "          inline_js[i].call(root, root.Bokeh);\n",
       "        }if (force === true) {\n",
       "          display_loaded();\n",
       "        }} else if (Date.now() < root._bokeh_timeout) {\n",
       "        setTimeout(run_inline_js, 100);\n",
       "      } else if (!root._bokeh_failed_load) {\n",
       "        console.log(\"Bokeh: BokehJS failed to load within specified timeout.\");\n",
       "        root._bokeh_failed_load = true;\n",
       "      } else if (force !== true) {\n",
       "        var cell = $(document.getElementById(\"a561bdf4-b8e2-4296-bd84-12780b689c5e\")).parents('.cell').data().cell;\n",
       "        cell.output_area.append_execute_result(NB_LOAD_WARNING)\n",
       "      }\n",
       "  \n",
       "    }\n",
       "  \n",
       "    if (root._bokeh_is_loading === 0) {\n",
       "      console.log(\"Bokeh: BokehJS loaded, going straight to plotting\");\n",
       "      run_inline_js();\n",
       "    } else {\n",
       "      load_libs(js_urls, function() {\n",
       "        console.log(\"Bokeh: BokehJS plotting callback run at\", now());\n",
       "        run_inline_js();\n",
       "      });\n",
       "    }\n",
       "  }(window));\n",
       "</script>"
      ]
     },
     "metadata": {},
     "output_type": "display_data"
    }
   ],
   "source": [
    "# Gráfica\n",
    "\n",
    "q = [0, 2*qc]\n",
    "e = [a, a - b*2*qc]\n",
    "s = [c, c + d*2*qc]\n",
    "\n",
    "source = ColumnDataSource(data=dict(q=q, e=e, s=s))\n",
    "\n",
    "plot = figure(x_range = (0, 2*qc), y_range=(max([c - 0.1*(a - c), 0]), a + 0.1*(a - c)), plot_width=400, plot_height=400)\n",
    "\n",
    "plot.line('q', 'e', source=source, line_width=3, line_alpha=0.6)\n",
    "plot.line('q', 's', source=source, line_width=3, line_alpha=0.6, color='orange')\n",
    "\n",
    "output_notebook()\n",
    "\n",
    "show(plot)"
   ]
  },
  {
   "cell_type": "code",
   "execution_count": 120,
   "metadata": {},
   "outputs": [
    {
     "data": {
      "text/html": [
       "<script>\n",
       "code_show=true; \n",
       "function code_toggle() {\n",
       " if (code_show){\n",
       " $('div.input').hide();\n",
       " } else {\n",
       " $('div.input').show();\n",
       " }\n",
       " code_show = !code_show\n",
       "} \n",
       "$( document ).ready(code_toggle);\n",
       "</script>\n",
       "El código para este cuaderno de IPython está oculto por \n",
       "defecto para facilitar la lectura. Para mostrar/ocultar\n",
       "el código, haga click <a href=\"javascript:code_toggle()\">aquí</a>."
      ],
      "text/plain": [
       "<IPython.core.display.HTML object>"
      ]
     },
     "execution_count": 120,
     "metadata": {},
     "output_type": "execute_result"
    }
   ],
   "source": [
    "from IPython.display import HTML\n",
    "\n",
    "HTML('''<script>\n",
    "code_show=true; \n",
    "function code_toggle() {\n",
    " if (code_show){\n",
    " $('div.input').hide();\n",
    " } else {\n",
    " $('div.input').show();\n",
    " }\n",
    " code_show = !code_show\n",
    "} \n",
    "$( document ).ready(code_toggle);\n",
    "</script>\n",
    "El código para este cuaderno de IPython está oculto por \n",
    "defecto para facilitar la lectura. Para mostrar/ocultar\n",
    "el código, haga click <a href=\"javascript:code_toggle()\">aquí</a>.''')"
   ]
  }
 ],
 "metadata": {
  "kernelspec": {
   "display_name": "Python 3.6",
   "language": "python",
   "name": "python36"
  },
  "language_info": {
   "codemirror_mode": {
    "name": "ipython",
    "version": 3
   },
   "file_extension": ".py",
   "mimetype": "text/x-python",
   "name": "python",
   "nbconvert_exporter": "python",
   "pygments_lexer": "ipython3",
   "version": "3.6.3"
  }
 },
 "nbformat": 4,
 "nbformat_minor": 2
}
